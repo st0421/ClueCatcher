{
 "cells": [
  {
   "cell_type": "markdown",
   "metadata": {
    "pycharm": {
     "name": "#%% md\n"
    }
   },
   "source": [
    "# Analyze results\n"
   ]
  },
  {
   "cell_type": "code",
   "execution_count": 7,
   "metadata": {
    "pycharm": {
     "is_executing": false
    }
   },
   "outputs": [],
   "source": [
    "from pathlib import Path\n",
    "\n",
    "import numpy as np\n",
    "import pandas as pd\n",
    "import sklearn.metrics as M\n",
    "from scipy.special import expit\n",
    "from tqdm.notebook import tqdm"
   ]
  },
  {
   "cell_type": "code",
   "execution_count": 8,
   "metadata": {
    "pycharm": {
     "is_executing": false,
     "name": "#%%\n"
    }
   },
   "outputs": [],
   "source": [
    "results_root = Path('../results/')\n",
    "results_model_folder = list(results_root.glob('net-F3Net_traindb-celebdf_face-scale_size-224_seed-41_bestval'))"
   ]
  },
  {
   "cell_type": "code",
   "execution_count": 9,
   "metadata": {
    "pycharm": {
     "is_executing": false,
     "name": "#%%\n"
    }
   },
   "outputs": [],
   "source": [
    "def compute_metrics(df_res:pd.DataFrame,train_tag:str) -> dict:\n",
    "    numreal = sum(df_res['label']==False)\n",
    "    numfake = sum(df_res['label']==True\n",
    ")\n",
    "    \n",
    "    netname = train_tag.split('net-')[1].split('_')[0]\n",
    "    traindb = train_tag.split('traindb-')[1].split('_')[0]\n",
    "    \n",
    "    loss = M.log_loss(df_res['label'],expit(df_res['score']))\n",
    "    acc = M.accuracy_score(df_res['label'],df_res['score']>0)\n",
    "    accbal = M.balanced_accuracy_score(df_res['label'],df_res['score']>0)\n",
    "    rocauc = M.roc_auc_score(df_res['label'],df_res['score'])\n",
    "    \n",
    "    res_dict = {'traintag':train_tag,\n",
    "                'net':netname,\n",
    "                'traindb': traindb,\n",
    "                'testdb':testdb,'testsplit':testsplit,\n",
    "                'numreal':numreal,'numfake':numfake,\n",
    "                'loss':loss,\n",
    "                'acc':acc,'accbal':accbal,\n",
    "                'rocauc':rocauc} \n",
    "    return res_dict"
   ]
  },
  {
   "cell_type": "code",
   "execution_count": 10,
   "metadata": {
    "pycharm": {
     "is_executing": false,
     "name": "#%%\n"
    }
   },
   "outputs": [
    {
     "data": {
      "application/vnd.jupyter.widget-view+json": {
       "model_id": "7cfcc90df0f94f3b92b971220465c747",
       "version_major": 2,
       "version_minor": 0
      },
      "text/plain": [
       "  0%|          | 0/1 [00:00<?, ?it/s]"
      ]
     },
     "metadata": {},
     "output_type": "display_data"
    },
    {
     "name": "stderr",
     "output_type": "stream",
     "text": [
      "C:\\Users\\eun\\AppData\\Local\\Temp\\ipykernel_22684\\2771310375.py:14: DeprecationWarning: `np.bool` is a deprecated alias for the builtin `bool`. To silence this warning, use `bool` by itself. Doing this will not modify any behavior and is safe. If you specifically wanted the numpy scalar type, use `np.bool_` here.\n",
      "Deprecated in NumPy 1.20; for more details and guidance: https://numpy.org/devdocs/release/1.20.0-notes.html#deprecations\n",
      "  df_videos['label'] = df_videos['label'].astype(np.bool)\n"
     ]
    }
   ],
   "source": [
    "results_frame_list = []\n",
    "results_video_list = []\n",
    "\n",
    "for model_folder in tqdm(results_model_folder):\n",
    "    train_model_tag = model_folder.name\n",
    "    model_results = model_folder.glob('*.pkl')\n",
    "    for model_path in model_results:\n",
    "        testdb,testsplit = model_path.with_suffix('').name.rsplit('_',1)\n",
    "        \n",
    "        df_frames = pd.read_pickle(model_path)\n",
    "        results_frame_list.append(compute_metrics(df_frames,train_model_tag))\n",
    "        \n",
    "        df_videos = df_frames[['video','label','score']].groupby('video').mean()\n",
    "        df_videos['label'] = df_videos['label'].astype(np.bool)\n",
    "        results_video_list.append(compute_metrics(df_videos,train_model_tag))"
   ]
  },
  {
   "cell_type": "code",
   "execution_count": 11,
   "metadata": {
    "pycharm": {
     "is_executing": false,
     "name": "#%%\n"
    }
   },
   "outputs": [
    {
     "data": {
      "text/html": [
       "<div>\n",
       "<style scoped>\n",
       "    .dataframe tbody tr th:only-of-type {\n",
       "        vertical-align: middle;\n",
       "    }\n",
       "\n",
       "    .dataframe tbody tr th {\n",
       "        vertical-align: top;\n",
       "    }\n",
       "\n",
       "    .dataframe thead th {\n",
       "        text-align: right;\n",
       "    }\n",
       "</style>\n",
       "<table border=\"1\" class=\"dataframe\">\n",
       "  <thead>\n",
       "    <tr style=\"text-align: right;\">\n",
       "      <th></th>\n",
       "      <th>traintag</th>\n",
       "      <th>net</th>\n",
       "      <th>traindb</th>\n",
       "      <th>testdb</th>\n",
       "      <th>testsplit</th>\n",
       "      <th>numreal</th>\n",
       "      <th>numfake</th>\n",
       "      <th>loss</th>\n",
       "      <th>acc</th>\n",
       "      <th>accbal</th>\n",
       "      <th>rocauc</th>\n",
       "    </tr>\n",
       "  </thead>\n",
       "  <tbody>\n",
       "    <tr>\n",
       "      <th>0</th>\n",
       "      <td>net-F3Net_traindb-celebdf_face-scale_size-224_...</td>\n",
       "      <td>F3Net</td>\n",
       "      <td>celebdf</td>\n",
       "      <td>celebdf</td>\n",
       "      <td>val</td>\n",
       "      <td>9226</td>\n",
       "      <td>63312</td>\n",
       "      <td>0.149578</td>\n",
       "      <td>0.948468</td>\n",
       "      <td>0.955526</td>\n",
       "      <td>0.989835</td>\n",
       "    </tr>\n",
       "  </tbody>\n",
       "</table>\n",
       "</div>"
      ],
      "text/plain": [
       "                                            traintag    net  traindb   testdb  \\\n",
       "0  net-F3Net_traindb-celebdf_face-scale_size-224_...  F3Net  celebdf  celebdf   \n",
       "\n",
       "  testsplit  numreal  numfake      loss       acc    accbal    rocauc  \n",
       "0       val     9226    63312  0.149578  0.948468  0.955526  0.989835  "
      ]
     },
     "execution_count": 11,
     "metadata": {},
     "output_type": "execute_result"
    }
   ],
   "source": [
    "df_res_frames = pd.DataFrame(results_frame_list)\n",
    "df_res_frames"
   ]
  },
  {
   "cell_type": "code",
   "execution_count": 12,
   "metadata": {
    "pycharm": {
     "is_executing": false,
     "name": "#%%\n"
    }
   },
   "outputs": [
    {
     "data": {
      "text/html": [
       "<div>\n",
       "<style scoped>\n",
       "    .dataframe tbody tr th:only-of-type {\n",
       "        vertical-align: middle;\n",
       "    }\n",
       "\n",
       "    .dataframe tbody tr th {\n",
       "        vertical-align: top;\n",
       "    }\n",
       "\n",
       "    .dataframe thead th {\n",
       "        text-align: right;\n",
       "    }\n",
       "</style>\n",
       "<table border=\"1\" class=\"dataframe\">\n",
       "  <thead>\n",
       "    <tr style=\"text-align: right;\">\n",
       "      <th></th>\n",
       "      <th>traintag</th>\n",
       "      <th>net</th>\n",
       "      <th>traindb</th>\n",
       "      <th>testdb</th>\n",
       "      <th>testsplit</th>\n",
       "      <th>numreal</th>\n",
       "      <th>numfake</th>\n",
       "      <th>loss</th>\n",
       "      <th>acc</th>\n",
       "      <th>accbal</th>\n",
       "      <th>rocauc</th>\n",
       "    </tr>\n",
       "  </thead>\n",
       "  <tbody>\n",
       "    <tr>\n",
       "      <th>0</th>\n",
       "      <td>net-F3Net_traindb-celebdf_face-scale_size-224_...</td>\n",
       "      <td>F3Net</td>\n",
       "      <td>celebdf</td>\n",
       "      <td>celebdf</td>\n",
       "      <td>val</td>\n",
       "      <td>290</td>\n",
       "      <td>1979</td>\n",
       "      <td>0.043213</td>\n",
       "      <td>0.984134</td>\n",
       "      <td>0.985019</td>\n",
       "      <td>0.998643</td>\n",
       "    </tr>\n",
       "  </tbody>\n",
       "</table>\n",
       "</div>"
      ],
      "text/plain": [
       "                                            traintag    net  traindb   testdb  \\\n",
       "0  net-F3Net_traindb-celebdf_face-scale_size-224_...  F3Net  celebdf  celebdf   \n",
       "\n",
       "  testsplit  numreal  numfake      loss       acc    accbal    rocauc  \n",
       "0       val      290     1979  0.043213  0.984134  0.985019  0.998643  "
      ]
     },
     "execution_count": 12,
     "metadata": {},
     "output_type": "execute_result"
    }
   ],
   "source": [
    "df_res_video = pd.DataFrame(results_video_list)\n",
    "df_res_video"
   ]
  },
  {
   "cell_type": "code",
   "execution_count": 7,
   "metadata": {
    "pycharm": {
     "name": "#%%\n"
    }
   },
   "outputs": [],
   "source": [
    "df_res_frames.to_csv(results_root.joinpath('frames.csv'),index=False)\n",
    "df_res_video.to_csv(results_root.joinpath('videos.csv'),index=False)\n"
   ]
  },
  {
   "cell_type": "code",
   "execution_count": null,
   "metadata": {},
   "outputs": [],
   "source": []
  },
  {
   "cell_type": "code",
   "execution_count": null,
   "metadata": {},
   "outputs": [],
   "source": []
  }
 ],
 "metadata": {
  "kernelspec": {
   "display_name": "Python 3 (ipykernel)",
   "language": "python",
   "name": "python3"
  },
  "language_info": {
   "codemirror_mode": {
    "name": "ipython",
    "version": 3
   },
   "file_extension": ".py",
   "mimetype": "text/x-python",
   "name": "python",
   "nbconvert_exporter": "python",
   "pygments_lexer": "ipython3",
   "version": "3.9.16"
  },
  "pycharm": {
   "stem_cell": {
    "cell_type": "raw",
    "metadata": {
     "collapsed": false
    },
    "source": []
   }
  }
 },
 "nbformat": 4,
 "nbformat_minor": 1
}
